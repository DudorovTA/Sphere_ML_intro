{
 "cells": [
  {
   "cell_type": "markdown",
   "metadata": {
    "toc": "true"
   },
   "source": [
    "<h1>Table of Contents<span class=\"tocSkip\"></span></h1>\n",
    "<div class=\"toc\"><ul class=\"toc-item\"><li><span><a href=\"#Введение-в-машинное-обучение\" data-toc-modified-id=\"Введение-в-машинное-обучение-1\">Введение в машинное обучение</a></span><ul class=\"toc-item\"><li><span><a href=\"#Предварительный-анализ-данных\" data-toc-modified-id=\"Предварительный-анализ-данных-1.1\">Предварительный анализ данных</a></span></li><li><span><a href=\"#Описание-данных\" data-toc-modified-id=\"Описание-данных-1.2\">Описание данных</a></span></li><li><span><a href=\"#1)-Смотрим-размер-набора-данных\" data-toc-modified-id=\"1)-Смотрим-размер-набора-данных-1.3\">1) Смотрим размер набора данных</a></span></li><li><span><a href=\"#2)-Выводим-названия-колонок\" data-toc-modified-id=\"2)-Выводим-названия-колонок-1.4\">2) Выводим названия колонок</a></span></li><li><span><a href=\"#3)-Смотрим-информацию-по-каждой-колонке\" data-toc-modified-id=\"3)-Смотрим-информацию-по-каждой-колонке-1.5\">3) Смотрим информацию по каждой колонке</a></span></li><li><span><a href=\"#4)-Выводим-характеристики-каждого-признака\" data-toc-modified-id=\"4)-Выводим-характеристики-каждого-признака-1.6\">4) Выводим характеристики каждого признака</a></span></li><li><span><a href=\"#5)-Выводим-соотношение-между-1-и-0-для-SeriousDlqin2yrs\" data-toc-modified-id=\"5)-Выводим-соотношение-между-1-и-0-для-SeriousDlqin2yrs-1.7\">5) Выводим соотношение между 1 и 0 для SeriousDlqin2yrs</a></span></li><li><span><a href=\"#6)-Определим-средний-возраст\" data-toc-modified-id=\"6)-Определим-средний-возраст-1.8\">6) Определим средний возраст</a></span></li><li><span><a href=\"#7)-Создадим-свобную-табличку-для-SeriousDlqin2yrs-по-признакам:\" data-toc-modified-id=\"7)-Создадим-свобную-табличку-для-SeriousDlqin2yrs-по-признакам:-1.9\">7) Создадим свобную табличку для SeriousDlqin2yrs по признакам:</a></span></li><li><span><a href=\"#8)-Визуализируем-распределение-переменной-age-для-SeriousDlqin2yrs\" data-toc-modified-id=\"8)-Визуализируем-распределение-переменной-age-для-SeriousDlqin2yrs-1.10\">8) Визуализируем распределение переменной age для SeriousDlqin2yrs</a></span></li><li><span><a href=\"#9)-Посмотрим-на-частоты-признака-NumberOfDependents\" data-toc-modified-id=\"9)-Посмотрим-на-частоты-признака-NumberOfDependents-1.11\">9) Посмотрим на частоты признака NumberOfDependents</a></span></li><li><span><a href=\"#10)-Узнаем-максимальное-значение-по-каждому-признаку\" data-toc-modified-id=\"10)-Узнаем-максимальное-значение-по-каждому-признаку-1.12\">10) Узнаем максимальное значение по каждому признаку</a></span></li><li><span><a href=\"#11)-Выведем-ту-часть-таблицы,-для-которой-значение-признака-age->-65\" data-toc-modified-id=\"11)-Выведем-ту-часть-таблицы,-для-которой-значение-признака-age->-65-1.13\">11) Выведем ту часть таблицы, для которой значение признака age &gt; 65</a></span></li><li><span><a href=\"#12)-Сгруппируем-таблицу-по-SeriousDlqin2yrs-и-посмотрим-статистику-для-признаков-'RevolvingUtilizationOfUnsecuredLines',-'age',-'DebtRatio'\" data-toc-modified-id=\"12)-Сгруппируем-таблицу-по-SeriousDlqin2yrs-и-посмотрим-статистику-для-признаков-'RevolvingUtilizationOfUnsecuredLines',-'age',-'DebtRatio'-1.14\">12) Сгруппируем таблицу по SeriousDlqin2yrs и посмотрим статистику для признаков 'RevolvingUtilizationOfUnsecuredLines', 'age', 'DebtRatio'</a></span></li><li><span><a href=\"#13)-Тоже-самое,-только-для-mean,-std,-min,-max\" data-toc-modified-id=\"13)-Тоже-самое,-только-для-mean,-std,-min,-max-1.15\">13) Тоже самое, только для mean, std, min, max</a></span></li><li><span><a href=\"#14)-Построим-crosstab-для-полей-SeriousDlqin2yrs-и-age\" data-toc-modified-id=\"14)-Построим-crosstab-для-полей-SeriousDlqin2yrs-и-age-1.16\">14) Построим crosstab для полей SeriousDlqin2yrs и age</a></span></li><li><span><a href=\"#15)-Построим-crosstab-для-полей-SeriousDlqin2yrs-и-age-+-нормализация\" data-toc-modified-id=\"15)-Построим-crosstab-для-полей-SeriousDlqin2yrs-и-age-+-нормализация-1.17\">15) Построим crosstab для полей SeriousDlqin2yrs и age + нормализация</a></span></li></ul></li></ul></div>"
   ]
  },
  {
   "cell_type": "markdown",
   "metadata": {},
   "source": [
    "# Введение в машинное обучение"
   ]
  },
  {
   "cell_type": "markdown",
   "metadata": {},
   "source": [
    "## Предварительный анализ данных"
   ]
  },
  {
   "cell_type": "code",
   "execution_count": 4,
   "metadata": {},
   "outputs": [],
   "source": [
    "import pandas as pd\n",
    "import numpy as np"
   ]
  },
  {
   "cell_type": "code",
   "execution_count": 5,
   "metadata": {},
   "outputs": [],
   "source": [
    "import matplotlib.pyplot as plt\n",
    "%matplotlib inline"
   ]
  },
  {
   "cell_type": "code",
   "execution_count": 6,
   "metadata": {},
   "outputs": [],
   "source": [
    "df = pd.read_csv('./data/bank-data.csv.gz', compression='gzip', sep=',')"
   ]
  },
  {
   "cell_type": "code",
   "execution_count": 7,
   "metadata": {},
   "outputs": [
    {
     "data": {
      "text/html": [
       "<div>\n",
       "<style scoped>\n",
       "    .dataframe tbody tr th:only-of-type {\n",
       "        vertical-align: middle;\n",
       "    }\n",
       "\n",
       "    .dataframe tbody tr th {\n",
       "        vertical-align: top;\n",
       "    }\n",
       "\n",
       "    .dataframe thead th {\n",
       "        text-align: right;\n",
       "    }\n",
       "</style>\n",
       "<table border=\"1\" class=\"dataframe\">\n",
       "  <thead>\n",
       "    <tr style=\"text-align: right;\">\n",
       "      <th></th>\n",
       "      <th>SeriousDlqin2yrs</th>\n",
       "      <th>RevolvingUtilizationOfUnsecuredLines</th>\n",
       "      <th>age</th>\n",
       "      <th>NumberOfTime30-59DaysPastDueNotWorse</th>\n",
       "      <th>DebtRatio</th>\n",
       "      <th>MonthlyIncome</th>\n",
       "      <th>NumberOfOpenCreditLinesAndLoans</th>\n",
       "      <th>NumberOfTimes90DaysLate</th>\n",
       "      <th>NumberRealEstateLoansOrLines</th>\n",
       "      <th>NumberOfTime60-89DaysPastDueNotWorse</th>\n",
       "      <th>NumberOfDependents</th>\n",
       "    </tr>\n",
       "  </thead>\n",
       "  <tbody>\n",
       "    <tr>\n",
       "      <th>1</th>\n",
       "      <td>1</td>\n",
       "      <td>0.766127</td>\n",
       "      <td>45</td>\n",
       "      <td>2</td>\n",
       "      <td>0.802982</td>\n",
       "      <td>9120.0</td>\n",
       "      <td>13</td>\n",
       "      <td>0</td>\n",
       "      <td>6</td>\n",
       "      <td>0</td>\n",
       "      <td>2.0</td>\n",
       "    </tr>\n",
       "    <tr>\n",
       "      <th>2</th>\n",
       "      <td>0</td>\n",
       "      <td>0.957151</td>\n",
       "      <td>40</td>\n",
       "      <td>0</td>\n",
       "      <td>0.121876</td>\n",
       "      <td>2600.0</td>\n",
       "      <td>4</td>\n",
       "      <td>0</td>\n",
       "      <td>0</td>\n",
       "      <td>0</td>\n",
       "      <td>1.0</td>\n",
       "    </tr>\n",
       "    <tr>\n",
       "      <th>3</th>\n",
       "      <td>0</td>\n",
       "      <td>0.658180</td>\n",
       "      <td>38</td>\n",
       "      <td>1</td>\n",
       "      <td>0.085113</td>\n",
       "      <td>3042.0</td>\n",
       "      <td>2</td>\n",
       "      <td>1</td>\n",
       "      <td>0</td>\n",
       "      <td>0</td>\n",
       "      <td>0.0</td>\n",
       "    </tr>\n",
       "    <tr>\n",
       "      <th>4</th>\n",
       "      <td>0</td>\n",
       "      <td>0.233810</td>\n",
       "      <td>30</td>\n",
       "      <td>0</td>\n",
       "      <td>0.036050</td>\n",
       "      <td>3300.0</td>\n",
       "      <td>5</td>\n",
       "      <td>0</td>\n",
       "      <td>0</td>\n",
       "      <td>0</td>\n",
       "      <td>0.0</td>\n",
       "    </tr>\n",
       "    <tr>\n",
       "      <th>5</th>\n",
       "      <td>0</td>\n",
       "      <td>0.907239</td>\n",
       "      <td>49</td>\n",
       "      <td>1</td>\n",
       "      <td>0.024926</td>\n",
       "      <td>63588.0</td>\n",
       "      <td>7</td>\n",
       "      <td>0</td>\n",
       "      <td>1</td>\n",
       "      <td>0</td>\n",
       "      <td>0.0</td>\n",
       "    </tr>\n",
       "  </tbody>\n",
       "</table>\n",
       "</div>"
      ],
      "text/plain": [
       "   SeriousDlqin2yrs  RevolvingUtilizationOfUnsecuredLines  age  \\\n",
       "1                 1                              0.766127   45   \n",
       "2                 0                              0.957151   40   \n",
       "3                 0                              0.658180   38   \n",
       "4                 0                              0.233810   30   \n",
       "5                 0                              0.907239   49   \n",
       "\n",
       "   NumberOfTime30-59DaysPastDueNotWorse  DebtRatio  MonthlyIncome  \\\n",
       "1                                     2   0.802982         9120.0   \n",
       "2                                     0   0.121876         2600.0   \n",
       "3                                     1   0.085113         3042.0   \n",
       "4                                     0   0.036050         3300.0   \n",
       "5                                     1   0.024926        63588.0   \n",
       "\n",
       "   NumberOfOpenCreditLinesAndLoans  NumberOfTimes90DaysLate  \\\n",
       "1                               13                        0   \n",
       "2                                4                        0   \n",
       "3                                2                        1   \n",
       "4                                5                        0   \n",
       "5                                7                        0   \n",
       "\n",
       "   NumberRealEstateLoansOrLines  NumberOfTime60-89DaysPastDueNotWorse  \\\n",
       "1                             6                                     0   \n",
       "2                             0                                     0   \n",
       "3                             0                                     0   \n",
       "4                             0                                     0   \n",
       "5                             1                                     0   \n",
       "\n",
       "   NumberOfDependents  \n",
       "1                 2.0  \n",
       "2                 1.0  \n",
       "3                 0.0  \n",
       "4                 0.0  \n",
       "5                 0.0  "
      ]
     },
     "execution_count": 7,
     "metadata": {},
     "output_type": "execute_result"
    }
   ],
   "source": [
    "df.head()"
   ]
  },
  {
   "cell_type": "markdown",
   "metadata": {},
   "source": [
    "# SeriousDlqin2yrs\n",
    "Целевая переменная, флаг выхода на просрочку через 90 дней"
   ]
  },
  {
   "cell_type": "markdown",
   "metadata": {},
   "source": [
    "## Описание данных"
   ]
  },
  {
   "cell_type": "markdown",
   "metadata": {},
   "source": [
    "* SeriousDlqin2yrs - Person experienced 90 days past due delinquency or worse \n",
    "* RevolvingUtilizationOfUnsecuredLines - Total balance on credit cards and personal lines of credit except real estate and no installment debt like car loans divided by the sum of credit limits\n",
    "* age - Age of borrower in years\n",
    "* NumberOfTime30-59DaysPastDueNotWorse - Number of times borrower has been 30-59 days past due but no worse in the last 2 years.\n",
    "* DebtRatio - Monthly debt payments, alimony,living costs divided by monthy gross income\n",
    "* MonthlyIncome - Monthly income\n",
    "* NumberOfOpenCreditLinesAndLoans - Number of Open loans (installment like car loan or mortgage) and Lines of credit (e.g. credit cards)\n",
    "* NumberOfTimes90DaysLate - Number of times borrower has been 90 days or more past due.\n",
    "* NumberRealEstateLoansOrLines - Number of mortgage and real estate loans including home equity lines of credit\n",
    "* NumberOfTime60-89DaysPastDueNotWorse - Number of times borrower has been 60-89 days past due but no worse in the last 2 years.\n",
    "* NumberOfDependents - Number of dependents in family excluding themselves (spouse, children etc.)"
   ]
  },
  {
   "cell_type": "markdown",
   "metadata": {},
   "source": [
    "* SeriousDlqin2yrs - Флаг выхода на просрочку через 90 дней\n",
    "* RevolvingUtilizationOfUnsecuredLines - Общий баланс по кредитным картам и личным кредитным линиям, за исключением недвижимости, и без задолженности по кредитам, таким как автокредиты, деленные на сумму кредитных лимитов\n",
    "* age - Возраст заёмщика в годах\n",
    "* NumberOfTime30-59DaysPastDueNotWorse - Сколько раз заемщик просрочил выплату не более, чем на 30-59 дней, за последние 2 года.\n",
    "* DebtRatio - Ежемесячные платежи по долгам, алименты и прожиточные расходы, делённые на месячный валовый доход\n",
    "* MonthlyIncome - Ежемесячный доход\n",
    "* NumberOfOpenCreditLinesAndLoans - Количество открытых кредитов (например, автокредит или закладная, кредитные карты и т.д.)\n",
    "* NumberOfTimes90DaysLate - Сколько раз заёмщик просрочил выплату на 90 дней и более.\n",
    "* NumberRealEstateLoansOrLines - Количество ипотечных кредитов и кредитов на недвижимость\n",
    "* NumberOfTime60-89DaysPastDueNotWorse - Сколько раз заёмщик просрочил выплату не более, чем на 60-89 дней, за последние 2 года.\n",
    "* NumberOfDependents - Количество иждивенцев в семье, исключая самого заёмщика (супруга, дети и т.д.)"
   ]
  },
  {
   "cell_type": "markdown",
   "metadata": {},
   "source": [
    "## 1) Смотрим размер набора данных"
   ]
  },
  {
   "cell_type": "markdown",
   "metadata": {},
   "source": [
    "см. shape"
   ]
  },
  {
   "cell_type": "code",
   "execution_count": 1,
   "metadata": {},
   "outputs": [
    {
     "data": {
      "text/plain": [
       "(150000, 11)"
      ]
     },
     "execution_count": 1,
     "metadata": {},
     "output_type": "execute_result"
    }
   ],
   "source": [
    "import pandas as pd\n",
    "import numpy as np\n",
    "import matplotlib.pyplot as plt\n",
    "%matplotlib inline\n",
    "df = pd.read_csv('./data/bank-data.csv.gz', compression='gzip', sep=',')\n",
    "df.shape"
   ]
  },
  {
   "cell_type": "markdown",
   "metadata": {},
   "source": [
    "## 2) Выводим названия колонок"
   ]
  },
  {
   "cell_type": "markdown",
   "metadata": {},
   "source": [
    "см. columns"
   ]
  },
  {
   "cell_type": "code",
   "execution_count": 4,
   "metadata": {},
   "outputs": [
    {
     "data": {
      "text/plain": [
       "Index(['SeriousDlqin2yrs', 'RevolvingUtilizationOfUnsecuredLines', 'age',\n",
       "       'NumberOfTime30-59DaysPastDueNotWorse', 'DebtRatio', 'MonthlyIncome',\n",
       "       'NumberOfOpenCreditLinesAndLoans', 'NumberOfTimes90DaysLate',\n",
       "       'NumberRealEstateLoansOrLines', 'NumberOfTime60-89DaysPastDueNotWorse',\n",
       "       'NumberOfDependents'],\n",
       "      dtype='object')"
      ]
     },
     "execution_count": 4,
     "metadata": {},
     "output_type": "execute_result"
    }
   ],
   "source": [
    "#for element in df.columns:\n",
    "#    print(element)\n",
    "df.columns"
   ]
  },
  {
   "cell_type": "markdown",
   "metadata": {},
   "source": [
    "## 3) Смотрим информацию по каждой колонке"
   ]
  },
  {
   "cell_type": "markdown",
   "metadata": {},
   "source": [
    "см. info"
   ]
  },
  {
   "cell_type": "code",
   "execution_count": 10,
   "metadata": {},
   "outputs": [
    {
     "name": "stdout",
     "output_type": "stream",
     "text": [
      "<class 'pandas.core.frame.DataFrame'>\n",
      "Int64Index: 150000 entries, 1 to 150000\n",
      "Data columns (total 11 columns):\n",
      " #   Column                                Non-Null Count   Dtype  \n",
      "---  ------                                --------------   -----  \n",
      " 0   SeriousDlqin2yrs                      150000 non-null  int64  \n",
      " 1   RevolvingUtilizationOfUnsecuredLines  150000 non-null  float64\n",
      " 2   age                                   150000 non-null  int64  \n",
      " 3   NumberOfTime30-59DaysPastDueNotWorse  150000 non-null  int64  \n",
      " 4   DebtRatio                             150000 non-null  float64\n",
      " 5   MonthlyIncome                         120269 non-null  float64\n",
      " 6   NumberOfOpenCreditLinesAndLoans       150000 non-null  int64  \n",
      " 7   NumberOfTimes90DaysLate               150000 non-null  int64  \n",
      " 8   NumberRealEstateLoansOrLines          150000 non-null  int64  \n",
      " 9   NumberOfTime60-89DaysPastDueNotWorse  150000 non-null  int64  \n",
      " 10  NumberOfDependents                    146076 non-null  float64\n",
      "dtypes: float64(4), int64(7)\n",
      "memory usage: 13.7 MB\n"
     ]
    }
   ],
   "source": [
    "df.info()"
   ]
  },
  {
   "cell_type": "markdown",
   "metadata": {},
   "source": [
    "## 4) Выводим характеристики каждого признака"
   ]
  },
  {
   "cell_type": "markdown",
   "metadata": {},
   "source": [
    "см. describe"
   ]
  },
  {
   "cell_type": "code",
   "execution_count": 11,
   "metadata": {},
   "outputs": [
    {
     "data": {
      "text/html": [
       "<div>\n",
       "<style scoped>\n",
       "    .dataframe tbody tr th:only-of-type {\n",
       "        vertical-align: middle;\n",
       "    }\n",
       "\n",
       "    .dataframe tbody tr th {\n",
       "        vertical-align: top;\n",
       "    }\n",
       "\n",
       "    .dataframe thead th {\n",
       "        text-align: right;\n",
       "    }\n",
       "</style>\n",
       "<table border=\"1\" class=\"dataframe\">\n",
       "  <thead>\n",
       "    <tr style=\"text-align: right;\">\n",
       "      <th></th>\n",
       "      <th>SeriousDlqin2yrs</th>\n",
       "      <th>RevolvingUtilizationOfUnsecuredLines</th>\n",
       "      <th>age</th>\n",
       "      <th>NumberOfTime30-59DaysPastDueNotWorse</th>\n",
       "      <th>DebtRatio</th>\n",
       "      <th>MonthlyIncome</th>\n",
       "      <th>NumberOfOpenCreditLinesAndLoans</th>\n",
       "      <th>NumberOfTimes90DaysLate</th>\n",
       "      <th>NumberRealEstateLoansOrLines</th>\n",
       "      <th>NumberOfTime60-89DaysPastDueNotWorse</th>\n",
       "      <th>NumberOfDependents</th>\n",
       "    </tr>\n",
       "  </thead>\n",
       "  <tbody>\n",
       "    <tr>\n",
       "      <th>count</th>\n",
       "      <td>150000.000000</td>\n",
       "      <td>150000.000000</td>\n",
       "      <td>150000.000000</td>\n",
       "      <td>150000.000000</td>\n",
       "      <td>150000.000000</td>\n",
       "      <td>1.202690e+05</td>\n",
       "      <td>150000.000000</td>\n",
       "      <td>150000.000000</td>\n",
       "      <td>150000.000000</td>\n",
       "      <td>150000.000000</td>\n",
       "      <td>146076.000000</td>\n",
       "    </tr>\n",
       "    <tr>\n",
       "      <th>mean</th>\n",
       "      <td>0.066840</td>\n",
       "      <td>6.048438</td>\n",
       "      <td>52.295207</td>\n",
       "      <td>0.421033</td>\n",
       "      <td>353.005076</td>\n",
       "      <td>6.670221e+03</td>\n",
       "      <td>8.452760</td>\n",
       "      <td>0.265973</td>\n",
       "      <td>1.018240</td>\n",
       "      <td>0.240387</td>\n",
       "      <td>0.757222</td>\n",
       "    </tr>\n",
       "    <tr>\n",
       "      <th>std</th>\n",
       "      <td>0.249746</td>\n",
       "      <td>249.755371</td>\n",
       "      <td>14.771866</td>\n",
       "      <td>4.192781</td>\n",
       "      <td>2037.818523</td>\n",
       "      <td>1.438467e+04</td>\n",
       "      <td>5.145951</td>\n",
       "      <td>4.169304</td>\n",
       "      <td>1.129771</td>\n",
       "      <td>4.155179</td>\n",
       "      <td>1.115086</td>\n",
       "    </tr>\n",
       "    <tr>\n",
       "      <th>min</th>\n",
       "      <td>0.000000</td>\n",
       "      <td>0.000000</td>\n",
       "      <td>0.000000</td>\n",
       "      <td>0.000000</td>\n",
       "      <td>0.000000</td>\n",
       "      <td>0.000000e+00</td>\n",
       "      <td>0.000000</td>\n",
       "      <td>0.000000</td>\n",
       "      <td>0.000000</td>\n",
       "      <td>0.000000</td>\n",
       "      <td>0.000000</td>\n",
       "    </tr>\n",
       "    <tr>\n",
       "      <th>25%</th>\n",
       "      <td>0.000000</td>\n",
       "      <td>0.029867</td>\n",
       "      <td>41.000000</td>\n",
       "      <td>0.000000</td>\n",
       "      <td>0.175074</td>\n",
       "      <td>3.400000e+03</td>\n",
       "      <td>5.000000</td>\n",
       "      <td>0.000000</td>\n",
       "      <td>0.000000</td>\n",
       "      <td>0.000000</td>\n",
       "      <td>0.000000</td>\n",
       "    </tr>\n",
       "    <tr>\n",
       "      <th>50%</th>\n",
       "      <td>0.000000</td>\n",
       "      <td>0.154181</td>\n",
       "      <td>52.000000</td>\n",
       "      <td>0.000000</td>\n",
       "      <td>0.366508</td>\n",
       "      <td>5.400000e+03</td>\n",
       "      <td>8.000000</td>\n",
       "      <td>0.000000</td>\n",
       "      <td>1.000000</td>\n",
       "      <td>0.000000</td>\n",
       "      <td>0.000000</td>\n",
       "    </tr>\n",
       "    <tr>\n",
       "      <th>75%</th>\n",
       "      <td>0.000000</td>\n",
       "      <td>0.559046</td>\n",
       "      <td>63.000000</td>\n",
       "      <td>0.000000</td>\n",
       "      <td>0.868254</td>\n",
       "      <td>8.249000e+03</td>\n",
       "      <td>11.000000</td>\n",
       "      <td>0.000000</td>\n",
       "      <td>2.000000</td>\n",
       "      <td>0.000000</td>\n",
       "      <td>1.000000</td>\n",
       "    </tr>\n",
       "    <tr>\n",
       "      <th>max</th>\n",
       "      <td>1.000000</td>\n",
       "      <td>50708.000000</td>\n",
       "      <td>109.000000</td>\n",
       "      <td>98.000000</td>\n",
       "      <td>329664.000000</td>\n",
       "      <td>3.008750e+06</td>\n",
       "      <td>58.000000</td>\n",
       "      <td>98.000000</td>\n",
       "      <td>54.000000</td>\n",
       "      <td>98.000000</td>\n",
       "      <td>20.000000</td>\n",
       "    </tr>\n",
       "  </tbody>\n",
       "</table>\n",
       "</div>"
      ],
      "text/plain": [
       "       SeriousDlqin2yrs  RevolvingUtilizationOfUnsecuredLines            age  \\\n",
       "count     150000.000000                         150000.000000  150000.000000   \n",
       "mean           0.066840                              6.048438      52.295207   \n",
       "std            0.249746                            249.755371      14.771866   \n",
       "min            0.000000                              0.000000       0.000000   \n",
       "25%            0.000000                              0.029867      41.000000   \n",
       "50%            0.000000                              0.154181      52.000000   \n",
       "75%            0.000000                              0.559046      63.000000   \n",
       "max            1.000000                          50708.000000     109.000000   \n",
       "\n",
       "       NumberOfTime30-59DaysPastDueNotWorse      DebtRatio  MonthlyIncome  \\\n",
       "count                         150000.000000  150000.000000   1.202690e+05   \n",
       "mean                               0.421033     353.005076   6.670221e+03   \n",
       "std                                4.192781    2037.818523   1.438467e+04   \n",
       "min                                0.000000       0.000000   0.000000e+00   \n",
       "25%                                0.000000       0.175074   3.400000e+03   \n",
       "50%                                0.000000       0.366508   5.400000e+03   \n",
       "75%                                0.000000       0.868254   8.249000e+03   \n",
       "max                               98.000000  329664.000000   3.008750e+06   \n",
       "\n",
       "       NumberOfOpenCreditLinesAndLoans  NumberOfTimes90DaysLate  \\\n",
       "count                    150000.000000            150000.000000   \n",
       "mean                          8.452760                 0.265973   \n",
       "std                           5.145951                 4.169304   \n",
       "min                           0.000000                 0.000000   \n",
       "25%                           5.000000                 0.000000   \n",
       "50%                           8.000000                 0.000000   \n",
       "75%                          11.000000                 0.000000   \n",
       "max                          58.000000                98.000000   \n",
       "\n",
       "       NumberRealEstateLoansOrLines  NumberOfTime60-89DaysPastDueNotWorse  \\\n",
       "count                 150000.000000                         150000.000000   \n",
       "mean                       1.018240                              0.240387   \n",
       "std                        1.129771                              4.155179   \n",
       "min                        0.000000                              0.000000   \n",
       "25%                        0.000000                              0.000000   \n",
       "50%                        1.000000                              0.000000   \n",
       "75%                        2.000000                              0.000000   \n",
       "max                       54.000000                             98.000000   \n",
       "\n",
       "       NumberOfDependents  \n",
       "count       146076.000000  \n",
       "mean             0.757222  \n",
       "std              1.115086  \n",
       "min              0.000000  \n",
       "25%              0.000000  \n",
       "50%              0.000000  \n",
       "75%              1.000000  \n",
       "max             20.000000  "
      ]
     },
     "execution_count": 11,
     "metadata": {},
     "output_type": "execute_result"
    }
   ],
   "source": [
    "df.describe()"
   ]
  },
  {
   "cell_type": "markdown",
   "metadata": {},
   "source": [
    "## 5) Выводим соотношение между 1 и 0 для SeriousDlqin2yrs"
   ]
  },
  {
   "cell_type": "markdown",
   "metadata": {},
   "source": [
    "см. value_counts"
   ]
  },
  {
   "cell_type": "code",
   "execution_count": 12,
   "metadata": {},
   "outputs": [
    {
     "data": {
      "text/plain": [
       "0    139974\n",
       "1     10026\n",
       "Name: SeriousDlqin2yrs, dtype: int64"
      ]
     },
     "execution_count": 12,
     "metadata": {},
     "output_type": "execute_result"
    }
   ],
   "source": [
    "df.SeriousDlqin2yrs.value_counts()"
   ]
  },
  {
   "cell_type": "markdown",
   "metadata": {},
   "source": [
    "## 6) Определим средний возраст"
   ]
  },
  {
   "cell_type": "markdown",
   "metadata": {},
   "source": [
    "см. mean"
   ]
  },
  {
   "cell_type": "code",
   "execution_count": 13,
   "metadata": {},
   "outputs": [
    {
     "data": {
      "text/plain": [
       "52.295206666666665"
      ]
     },
     "execution_count": 13,
     "metadata": {},
     "output_type": "execute_result"
    }
   ],
   "source": [
    "df.age.mean()"
   ]
  },
  {
   "cell_type": "markdown",
   "metadata": {},
   "source": [
    "## 7) Создадим свобную табличку для SeriousDlqin2yrs по признакам:\n",
    "* NumberOfTime30-59DaysPastDueNotWorse \n",
    "* NumberOfTime60-89DaysPastDueNotWorse\n",
    "* NumberOfTimes90DaysLate\n",
    "\n",
    "Соберём по mean"
   ]
  },
  {
   "cell_type": "markdown",
   "metadata": {},
   "source": [
    "см. pivot_table"
   ]
  },
  {
   "cell_type": "code",
   "execution_count": 7,
   "metadata": {
    "scrolled": true
   },
   "outputs": [
    {
     "data": {
      "text/html": [
       "<div>\n",
       "<style scoped>\n",
       "    .dataframe tbody tr th:only-of-type {\n",
       "        vertical-align: middle;\n",
       "    }\n",
       "\n",
       "    .dataframe tbody tr th {\n",
       "        vertical-align: top;\n",
       "    }\n",
       "\n",
       "    .dataframe thead th {\n",
       "        text-align: right;\n",
       "    }\n",
       "</style>\n",
       "<table border=\"1\" class=\"dataframe\">\n",
       "  <thead>\n",
       "    <tr style=\"text-align: right;\">\n",
       "      <th>SeriousDlqin2yrs</th>\n",
       "      <th>0</th>\n",
       "      <th>1</th>\n",
       "    </tr>\n",
       "  </thead>\n",
       "  <tbody>\n",
       "    <tr>\n",
       "      <th>NumberOfTime30-59DaysPastDueNotWorse</th>\n",
       "      <td>0.280109</td>\n",
       "      <td>2.388490</td>\n",
       "    </tr>\n",
       "    <tr>\n",
       "      <th>NumberOfTime60-89DaysPastDueNotWorse</th>\n",
       "      <td>0.126666</td>\n",
       "      <td>1.828047</td>\n",
       "    </tr>\n",
       "    <tr>\n",
       "      <th>NumberOfTimes90DaysLate</th>\n",
       "      <td>0.135225</td>\n",
       "      <td>2.091362</td>\n",
       "    </tr>\n",
       "  </tbody>\n",
       "</table>\n",
       "</div>"
      ],
      "text/plain": [
       "SeriousDlqin2yrs                             0         1\n",
       "NumberOfTime30-59DaysPastDueNotWorse  0.280109  2.388490\n",
       "NumberOfTime60-89DaysPastDueNotWorse  0.126666  1.828047\n",
       "NumberOfTimes90DaysLate               0.135225  2.091362"
      ]
     },
     "execution_count": 7,
     "metadata": {},
     "output_type": "execute_result"
    }
   ],
   "source": [
    "table1 = pd.pivot_table(df, columns=['SeriousDlqin2yrs'], values=['NumberOfTime30-59DaysPastDueNotWorse', 'NumberOfTime60-89DaysPastDueNotWorse', 'NumberOfTimes90DaysLate'], aggfunc='mean')\n",
    "table1"
   ]
  },
  {
   "cell_type": "markdown",
   "metadata": {},
   "source": [
    "## 8) Визуализируем распределение переменной age для SeriousDlqin2yrs"
   ]
  },
  {
   "cell_type": "markdown",
   "metadata": {},
   "source": [
    "см. hist"
   ]
  },
  {
   "cell_type": "code",
   "execution_count": 131,
   "metadata": {},
   "outputs": [
    {
     "data": {
      "text/plain": [
       "array([<AxesSubplot:title={'center':'0'}>,\n",
       "       <AxesSubplot:title={'center':'1'}>], dtype=object)"
      ]
     },
     "execution_count": 131,
     "metadata": {},
     "output_type": "execute_result"
    },
    {
     "data": {
      "image/png": "[encoded data removed]",
      "text/plain": [
       "<Figure size 432x288 with 2 Axes>"
      ]
     },
     "metadata": {
      "needs_background": "light"
     },
     "output_type": "display_data"
    }
   ],
   "source": [
    "df['age'].hist(by=df['SeriousDlqin2yrs'])"
   ]
  },
  {
   "cell_type": "markdown",
   "metadata": {},
   "source": [
    "## 9) Посмотрим на частоты признака NumberOfDependents"
   ]
  },
  {
   "cell_type": "markdown",
   "metadata": {},
   "source": [
    "см. value_counts + normalize"
   ]
  },
  {
   "cell_type": "code",
   "execution_count": 111,
   "metadata": {},
   "outputs": [
    {
     "data": {
      "text/plain": [
       "0.0     0.594909\n",
       "1.0     0.180153\n",
       "2.0     0.133643\n",
       "3.0     0.064918\n",
       "4.0     0.019593\n",
       "5.0     0.005107\n",
       "6.0     0.001082\n",
       "7.0     0.000349\n",
       "8.0     0.000164\n",
       "9.0     0.000034\n",
       "10.0    0.000034\n",
       "13.0    0.000007\n",
       "20.0    0.000007\n",
       "Name: NumberOfDependents, dtype: float64"
      ]
     },
     "execution_count": 111,
     "metadata": {},
     "output_type": "execute_result"
    }
   ],
   "source": [
    "df['NumberOfDependents'].value_counts(normalize=True)"
   ]
  },
  {
   "cell_type": "markdown",
   "metadata": {},
   "source": [
    "## 10) Узнаем максимальное значение по каждому признаку"
   ]
  },
  {
   "cell_type": "markdown",
   "metadata": {},
   "source": [
    "см. apply + max"
   ]
  },
  {
   "cell_type": "code",
   "execution_count": 27,
   "metadata": {},
   "outputs": [
    {
     "data": {
      "text/plain": [
       "SeriousDlqin2yrs                              1.0\n",
       "RevolvingUtilizationOfUnsecuredLines      50708.0\n",
       "age                                         109.0\n",
       "NumberOfTime30-59DaysPastDueNotWorse         98.0\n",
       "DebtRatio                                329664.0\n",
       "MonthlyIncome                           3008750.0\n",
       "NumberOfOpenCreditLinesAndLoans              58.0\n",
       "NumberOfTimes90DaysLate                      98.0\n",
       "NumberRealEstateLoansOrLines                 54.0\n",
       "NumberOfTime60-89DaysPastDueNotWorse         98.0\n",
       "NumberOfDependents                           20.0\n",
       "dtype: float64"
      ]
     },
     "execution_count": 27,
     "metadata": {},
     "output_type": "execute_result"
    }
   ],
   "source": [
    "df.apply(max, raw=True)"
   ]
  },
  {
   "cell_type": "markdown",
   "metadata": {},
   "source": [
    "## 11) Выведем ту часть таблицы, для которой значение признака age > 65"
   ]
  },
  {
   "cell_type": "markdown",
   "metadata": {},
   "source": [
    "см. map + lambda"
   ]
  },
  {
   "cell_type": "code",
   "execution_count": 71,
   "metadata": {},
   "outputs": [
    {
     "data": {
      "text/html": [
       "<div>\n",
       "<style scoped>\n",
       "    .dataframe tbody tr th:only-of-type {\n",
       "        vertical-align: middle;\n",
       "    }\n",
       "\n",
       "    .dataframe tbody tr th {\n",
       "        vertical-align: top;\n",
       "    }\n",
       "\n",
       "    .dataframe thead th {\n",
       "        text-align: right;\n",
       "    }\n",
       "</style>\n",
       "<table border=\"1\" class=\"dataframe\">\n",
       "  <thead>\n",
       "    <tr style=\"text-align: right;\">\n",
       "      <th></th>\n",
       "      <th>SeriousDlqin2yrs</th>\n",
       "      <th>RevolvingUtilizationOfUnsecuredLines</th>\n",
       "      <th>age</th>\n",
       "      <th>NumberOfTime30-59DaysPastDueNotWorse</th>\n",
       "      <th>DebtRatio</th>\n",
       "      <th>MonthlyIncome</th>\n",
       "      <th>NumberOfOpenCreditLinesAndLoans</th>\n",
       "      <th>NumberOfTimes90DaysLate</th>\n",
       "      <th>NumberRealEstateLoansOrLines</th>\n",
       "      <th>NumberOfTime60-89DaysPastDueNotWorse</th>\n",
       "      <th>NumberOfDependents</th>\n",
       "    </tr>\n",
       "  </thead>\n",
       "  <tbody>\n",
       "    <tr>\n",
       "      <th>6</th>\n",
       "      <td>0</td>\n",
       "      <td>0.213179</td>\n",
       "      <td>74</td>\n",
       "      <td>0</td>\n",
       "      <td>0.375607</td>\n",
       "      <td>3500.0</td>\n",
       "      <td>3</td>\n",
       "      <td>0</td>\n",
       "      <td>1</td>\n",
       "      <td>0</td>\n",
       "      <td>1.0</td>\n",
       "    </tr>\n",
       "    <tr>\n",
       "      <th>15</th>\n",
       "      <td>0</td>\n",
       "      <td>0.019657</td>\n",
       "      <td>76</td>\n",
       "      <td>0</td>\n",
       "      <td>477.000000</td>\n",
       "      <td>0.0</td>\n",
       "      <td>6</td>\n",
       "      <td>0</td>\n",
       "      <td>1</td>\n",
       "      <td>0</td>\n",
       "      <td>0.0</td>\n",
       "    </tr>\n",
       "    <tr>\n",
       "      <th>17</th>\n",
       "      <td>0</td>\n",
       "      <td>0.061086</td>\n",
       "      <td>78</td>\n",
       "      <td>0</td>\n",
       "      <td>2058.000000</td>\n",
       "      <td>NaN</td>\n",
       "      <td>10</td>\n",
       "      <td>0</td>\n",
       "      <td>2</td>\n",
       "      <td>0</td>\n",
       "      <td>0.0</td>\n",
       "    </tr>\n",
       "    <tr>\n",
       "      <th>28</th>\n",
       "      <td>0</td>\n",
       "      <td>0.034421</td>\n",
       "      <td>69</td>\n",
       "      <td>0</td>\n",
       "      <td>0.042383</td>\n",
       "      <td>2500.0</td>\n",
       "      <td>17</td>\n",
       "      <td>0</td>\n",
       "      <td>0</td>\n",
       "      <td>0</td>\n",
       "      <td>1.0</td>\n",
       "    </tr>\n",
       "    <tr>\n",
       "      <th>38</th>\n",
       "      <td>0</td>\n",
       "      <td>1.000000</td>\n",
       "      <td>75</td>\n",
       "      <td>1</td>\n",
       "      <td>0.134078</td>\n",
       "      <td>3400.0</td>\n",
       "      <td>1</td>\n",
       "      <td>0</td>\n",
       "      <td>1</td>\n",
       "      <td>0</td>\n",
       "      <td>1.0</td>\n",
       "    </tr>\n",
       "    <tr>\n",
       "      <th>...</th>\n",
       "      <td>...</td>\n",
       "      <td>...</td>\n",
       "      <td>...</td>\n",
       "      <td>...</td>\n",
       "      <td>...</td>\n",
       "      <td>...</td>\n",
       "      <td>...</td>\n",
       "      <td>...</td>\n",
       "      <td>...</td>\n",
       "      <td>...</td>\n",
       "      <td>...</td>\n",
       "    </tr>\n",
       "    <tr>\n",
       "      <th>149972</th>\n",
       "      <td>0</td>\n",
       "      <td>0.058001</td>\n",
       "      <td>83</td>\n",
       "      <td>0</td>\n",
       "      <td>0.013997</td>\n",
       "      <td>5000.0</td>\n",
       "      <td>6</td>\n",
       "      <td>0</td>\n",
       "      <td>0</td>\n",
       "      <td>0</td>\n",
       "      <td>0.0</td>\n",
       "    </tr>\n",
       "    <tr>\n",
       "      <th>149977</th>\n",
       "      <td>0</td>\n",
       "      <td>0.000627</td>\n",
       "      <td>76</td>\n",
       "      <td>0</td>\n",
       "      <td>60.000000</td>\n",
       "      <td>NaN</td>\n",
       "      <td>5</td>\n",
       "      <td>0</td>\n",
       "      <td>0</td>\n",
       "      <td>0</td>\n",
       "      <td>0.0</td>\n",
       "    </tr>\n",
       "    <tr>\n",
       "      <th>149984</th>\n",
       "      <td>0</td>\n",
       "      <td>0.002485</td>\n",
       "      <td>82</td>\n",
       "      <td>0</td>\n",
       "      <td>0.000800</td>\n",
       "      <td>5000.0</td>\n",
       "      <td>5</td>\n",
       "      <td>0</td>\n",
       "      <td>0</td>\n",
       "      <td>0</td>\n",
       "      <td>0.0</td>\n",
       "    </tr>\n",
       "    <tr>\n",
       "      <th>149985</th>\n",
       "      <td>0</td>\n",
       "      <td>0.037548</td>\n",
       "      <td>84</td>\n",
       "      <td>0</td>\n",
       "      <td>25.000000</td>\n",
       "      <td>NaN</td>\n",
       "      <td>5</td>\n",
       "      <td>0</td>\n",
       "      <td>0</td>\n",
       "      <td>0</td>\n",
       "      <td>0.0</td>\n",
       "    </tr>\n",
       "    <tr>\n",
       "      <th>149996</th>\n",
       "      <td>0</td>\n",
       "      <td>0.040674</td>\n",
       "      <td>74</td>\n",
       "      <td>0</td>\n",
       "      <td>0.225131</td>\n",
       "      <td>2100.0</td>\n",
       "      <td>4</td>\n",
       "      <td>0</td>\n",
       "      <td>1</td>\n",
       "      <td>0</td>\n",
       "      <td>0.0</td>\n",
       "    </tr>\n",
       "  </tbody>\n",
       "</table>\n",
       "<p>28599 rows × 11 columns</p>\n",
       "</div>"
      ],
      "text/plain": [
       "        SeriousDlqin2yrs  RevolvingUtilizationOfUnsecuredLines  age  \\\n",
       "6                      0                              0.213179   74   \n",
       "15                     0                              0.019657   76   \n",
       "17                     0                              0.061086   78   \n",
       "28                     0                              0.034421   69   \n",
       "38                     0                              1.000000   75   \n",
       "...                  ...                                   ...  ...   \n",
       "149972                 0                              0.058001   83   \n",
       "149977                 0                              0.000627   76   \n",
       "149984                 0                              0.002485   82   \n",
       "149985                 0                              0.037548   84   \n",
       "149996                 0                              0.040674   74   \n",
       "\n",
       "        NumberOfTime30-59DaysPastDueNotWorse    DebtRatio  MonthlyIncome  \\\n",
       "6                                          0     0.375607         3500.0   \n",
       "15                                         0   477.000000            0.0   \n",
       "17                                         0  2058.000000            NaN   \n",
       "28                                         0     0.042383         2500.0   \n",
       "38                                         1     0.134078         3400.0   \n",
       "...                                      ...          ...            ...   \n",
       "149972                                     0     0.013997         5000.0   \n",
       "149977                                     0    60.000000            NaN   \n",
       "149984                                     0     0.000800         5000.0   \n",
       "149985                                     0    25.000000            NaN   \n",
       "149996                                     0     0.225131         2100.0   \n",
       "\n",
       "        NumberOfOpenCreditLinesAndLoans  NumberOfTimes90DaysLate  \\\n",
       "6                                     3                        0   \n",
       "15                                    6                        0   \n",
       "17                                   10                        0   \n",
       "28                                   17                        0   \n",
       "38                                    1                        0   \n",
       "...                                 ...                      ...   \n",
       "149972                                6                        0   \n",
       "149977                                5                        0   \n",
       "149984                                5                        0   \n",
       "149985                                5                        0   \n",
       "149996                                4                        0   \n",
       "\n",
       "        NumberRealEstateLoansOrLines  NumberOfTime60-89DaysPastDueNotWorse  \\\n",
       "6                                  1                                     0   \n",
       "15                                 1                                     0   \n",
       "17                                 2                                     0   \n",
       "28                                 0                                     0   \n",
       "38                                 1                                     0   \n",
       "...                              ...                                   ...   \n",
       "149972                             0                                     0   \n",
       "149977                             0                                     0   \n",
       "149984                             0                                     0   \n",
       "149985                             0                                     0   \n",
       "149996                             1                                     0   \n",
       "\n",
       "        NumberOfDependents  \n",
       "6                      1.0  \n",
       "15                     0.0  \n",
       "17                     0.0  \n",
       "28                     1.0  \n",
       "38                     1.0  \n",
       "...                    ...  \n",
       "149972                 0.0  \n",
       "149977                 0.0  \n",
       "149984                 0.0  \n",
       "149985                 0.0  \n",
       "149996                 0.0  \n",
       "\n",
       "[28599 rows x 11 columns]"
      ]
     },
     "execution_count": 71,
     "metadata": {},
     "output_type": "execute_result"
    }
   ],
   "source": [
    "#df[df['age'] > 65] Почему не так?\n",
    "df[df['age'].map(lambda x: x > 65)]"
   ]
  },
  {
   "cell_type": "markdown",
   "metadata": {},
   "source": [
    "## 12) Сгруппируем таблицу по SeriousDlqin2yrs и посмотрим статистику для признаков 'RevolvingUtilizationOfUnsecuredLines', 'age', 'DebtRatio'"
   ]
  },
  {
   "cell_type": "markdown",
   "metadata": {},
   "source": [
    "см. groupby + describe(percentiles=[])"
   ]
  },
  {
   "cell_type": "code",
   "execution_count": 88,
   "metadata": {},
   "outputs": [
    {
     "data": {
      "text/html": [
       "<div>\n",
       "<style scoped>\n",
       "    .dataframe tbody tr th:only-of-type {\n",
       "        vertical-align: middle;\n",
       "    }\n",
       "\n",
       "    .dataframe tbody tr th {\n",
       "        vertical-align: top;\n",
       "    }\n",
       "\n",
       "    .dataframe thead tr th {\n",
       "        text-align: left;\n",
       "    }\n",
       "\n",
       "    .dataframe thead tr:last-of-type th {\n",
       "        text-align: right;\n",
       "    }\n",
       "</style>\n",
       "<table border=\"1\" class=\"dataframe\">\n",
       "  <thead>\n",
       "    <tr>\n",
       "      <th></th>\n",
       "      <th colspan=\"6\" halign=\"left\">RevolvingUtilizationOfUnsecuredLines</th>\n",
       "      <th colspan=\"6\" halign=\"left\">age</th>\n",
       "      <th colspan=\"6\" halign=\"left\">DebtRatio</th>\n",
       "    </tr>\n",
       "    <tr>\n",
       "      <th></th>\n",
       "      <th>count</th>\n",
       "      <th>mean</th>\n",
       "      <th>std</th>\n",
       "      <th>min</th>\n",
       "      <th>50%</th>\n",
       "      <th>max</th>\n",
       "      <th>count</th>\n",
       "      <th>mean</th>\n",
       "      <th>std</th>\n",
       "      <th>min</th>\n",
       "      <th>50%</th>\n",
       "      <th>max</th>\n",
       "      <th>count</th>\n",
       "      <th>mean</th>\n",
       "      <th>std</th>\n",
       "      <th>min</th>\n",
       "      <th>50%</th>\n",
       "      <th>max</th>\n",
       "    </tr>\n",
       "    <tr>\n",
       "      <th>SeriousDlqin2yrs</th>\n",
       "      <th></th>\n",
       "      <th></th>\n",
       "      <th></th>\n",
       "      <th></th>\n",
       "      <th></th>\n",
       "      <th></th>\n",
       "      <th></th>\n",
       "      <th></th>\n",
       "      <th></th>\n",
       "      <th></th>\n",
       "      <th></th>\n",
       "      <th></th>\n",
       "      <th></th>\n",
       "      <th></th>\n",
       "      <th></th>\n",
       "      <th></th>\n",
       "      <th></th>\n",
       "      <th></th>\n",
       "    </tr>\n",
       "  </thead>\n",
       "  <tbody>\n",
       "    <tr>\n",
       "      <th>0</th>\n",
       "      <td>139974.0</td>\n",
       "      <td>6.168855</td>\n",
       "      <td>256.126350</td>\n",
       "      <td>0.0</td>\n",
       "      <td>0.133288</td>\n",
       "      <td>50708.0</td>\n",
       "      <td>139974.0</td>\n",
       "      <td>52.751375</td>\n",
       "      <td>14.791079</td>\n",
       "      <td>0.0</td>\n",
       "      <td>52.0</td>\n",
       "      <td>109.0</td>\n",
       "      <td>139974.0</td>\n",
       "      <td>357.151168</td>\n",
       "      <td>2083.282060</td>\n",
       "      <td>0.0</td>\n",
       "      <td>0.362659</td>\n",
       "      <td>329664.0</td>\n",
       "    </tr>\n",
       "    <tr>\n",
       "      <th>1</th>\n",
       "      <td>10026.0</td>\n",
       "      <td>4.367282</td>\n",
       "      <td>131.835778</td>\n",
       "      <td>0.0</td>\n",
       "      <td>0.838853</td>\n",
       "      <td>8328.0</td>\n",
       "      <td>10026.0</td>\n",
       "      <td>45.926591</td>\n",
       "      <td>12.916289</td>\n",
       "      <td>21.0</td>\n",
       "      <td>45.0</td>\n",
       "      <td>101.0</td>\n",
       "      <td>10026.0</td>\n",
       "      <td>295.121066</td>\n",
       "      <td>1238.360283</td>\n",
       "      <td>0.0</td>\n",
       "      <td>0.428227</td>\n",
       "      <td>38793.0</td>\n",
       "    </tr>\n",
       "  </tbody>\n",
       "</table>\n",
       "</div>"
      ],
      "text/plain": [
       "                 RevolvingUtilizationOfUnsecuredLines                        \\\n",
       "                                                count      mean         std   \n",
       "SeriousDlqin2yrs                                                              \n",
       "0                                            139974.0  6.168855  256.126350   \n",
       "1                                             10026.0  4.367282  131.835778   \n",
       "\n",
       "                                               age                        \\\n",
       "                  min       50%      max     count       mean        std   \n",
       "SeriousDlqin2yrs                                                           \n",
       "0                 0.0  0.133288  50708.0  139974.0  52.751375  14.791079   \n",
       "1                 0.0  0.838853   8328.0   10026.0  45.926591  12.916289   \n",
       "\n",
       "                                    DebtRatio                                \\\n",
       "                   min   50%    max     count        mean          std  min   \n",
       "SeriousDlqin2yrs                                                              \n",
       "0                  0.0  52.0  109.0  139974.0  357.151168  2083.282060  0.0   \n",
       "1                 21.0  45.0  101.0   10026.0  295.121066  1238.360283  0.0   \n",
       "\n",
       "                                      \n",
       "                       50%       max  \n",
       "SeriousDlqin2yrs                      \n",
       "0                 0.362659  329664.0  \n",
       "1                 0.428227   38793.0  "
      ]
     },
     "execution_count": 88,
     "metadata": {},
     "output_type": "execute_result"
    }
   ],
   "source": [
    "df.groupby(['SeriousDlqin2yrs'])[['RevolvingUtilizationOfUnsecuredLines', 'age', 'DebtRatio']].describe(percentiles=[])"
   ]
  },
  {
   "cell_type": "markdown",
   "metadata": {},
   "source": [
    "## 13) Тоже самое, только для mean, std, min, max"
   ]
  },
  {
   "cell_type": "markdown",
   "metadata": {},
   "source": [
    "см. groupby + agg + [np.mean, np.std, np.min, np.max]"
   ]
  },
  {
   "cell_type": "code",
   "execution_count": 89,
   "metadata": {},
   "outputs": [
    {
     "data": {
      "text/html": [
       "<div>\n",
       "<style scoped>\n",
       "    .dataframe tbody tr th:only-of-type {\n",
       "        vertical-align: middle;\n",
       "    }\n",
       "\n",
       "    .dataframe tbody tr th {\n",
       "        vertical-align: top;\n",
       "    }\n",
       "\n",
       "    .dataframe thead tr th {\n",
       "        text-align: left;\n",
       "    }\n",
       "\n",
       "    .dataframe thead tr:last-of-type th {\n",
       "        text-align: right;\n",
       "    }\n",
       "</style>\n",
       "<table border=\"1\" class=\"dataframe\">\n",
       "  <thead>\n",
       "    <tr>\n",
       "      <th></th>\n",
       "      <th colspan=\"4\" halign=\"left\">RevolvingUtilizationOfUnsecuredLines</th>\n",
       "      <th colspan=\"4\" halign=\"left\">age</th>\n",
       "      <th colspan=\"4\" halign=\"left\">DebtRatio</th>\n",
       "    </tr>\n",
       "    <tr>\n",
       "      <th></th>\n",
       "      <th>mean</th>\n",
       "      <th>std</th>\n",
       "      <th>amin</th>\n",
       "      <th>amax</th>\n",
       "      <th>mean</th>\n",
       "      <th>std</th>\n",
       "      <th>amin</th>\n",
       "      <th>amax</th>\n",
       "      <th>mean</th>\n",
       "      <th>std</th>\n",
       "      <th>amin</th>\n",
       "      <th>amax</th>\n",
       "    </tr>\n",
       "    <tr>\n",
       "      <th>SeriousDlqin2yrs</th>\n",
       "      <th></th>\n",
       "      <th></th>\n",
       "      <th></th>\n",
       "      <th></th>\n",
       "      <th></th>\n",
       "      <th></th>\n",
       "      <th></th>\n",
       "      <th></th>\n",
       "      <th></th>\n",
       "      <th></th>\n",
       "      <th></th>\n",
       "      <th></th>\n",
       "    </tr>\n",
       "  </thead>\n",
       "  <tbody>\n",
       "    <tr>\n",
       "      <th>0</th>\n",
       "      <td>6.168855</td>\n",
       "      <td>256.126350</td>\n",
       "      <td>0.0</td>\n",
       "      <td>50708.0</td>\n",
       "      <td>52.751375</td>\n",
       "      <td>14.791079</td>\n",
       "      <td>0</td>\n",
       "      <td>109</td>\n",
       "      <td>357.151168</td>\n",
       "      <td>2083.282060</td>\n",
       "      <td>0.0</td>\n",
       "      <td>329664.0</td>\n",
       "    </tr>\n",
       "    <tr>\n",
       "      <th>1</th>\n",
       "      <td>4.367282</td>\n",
       "      <td>131.835778</td>\n",
       "      <td>0.0</td>\n",
       "      <td>8328.0</td>\n",
       "      <td>45.926591</td>\n",
       "      <td>12.916289</td>\n",
       "      <td>21</td>\n",
       "      <td>101</td>\n",
       "      <td>295.121066</td>\n",
       "      <td>1238.360283</td>\n",
       "      <td>0.0</td>\n",
       "      <td>38793.0</td>\n",
       "    </tr>\n",
       "  </tbody>\n",
       "</table>\n",
       "</div>"
      ],
      "text/plain": [
       "                 RevolvingUtilizationOfUnsecuredLines                   \\\n",
       "                                                 mean         std amin   \n",
       "SeriousDlqin2yrs                                                         \n",
       "0                                            6.168855  256.126350  0.0   \n",
       "1                                            4.367282  131.835778  0.0   \n",
       "\n",
       "                                 age                        DebtRatio  \\\n",
       "                     amax       mean        std amin amax        mean   \n",
       "SeriousDlqin2yrs                                                        \n",
       "0                 50708.0  52.751375  14.791079    0  109  357.151168   \n",
       "1                  8328.0  45.926591  12.916289   21  101  295.121066   \n",
       "\n",
       "                                              \n",
       "                          std amin      amax  \n",
       "SeriousDlqin2yrs                              \n",
       "0                 2083.282060  0.0  329664.0  \n",
       "1                 1238.360283  0.0   38793.0  "
      ]
     },
     "execution_count": 89,
     "metadata": {},
     "output_type": "execute_result"
    }
   ],
   "source": [
    "df.groupby(['SeriousDlqin2yrs'])[['RevolvingUtilizationOfUnsecuredLines', 'age', 'DebtRatio']].agg([np.mean, np.std, np.min, np.max])"
   ]
  },
  {
   "cell_type": "markdown",
   "metadata": {},
   "source": [
    "## 14) Построим crosstab для полей SeriousDlqin2yrs и age"
   ]
  },
  {
   "cell_type": "markdown",
   "metadata": {},
   "source": [
    "см. crosstab"
   ]
  },
  {
   "cell_type": "code",
   "execution_count": 92,
   "metadata": {},
   "outputs": [
    {
     "data": {
      "text/html": [
       "<div>\n",
       "<style scoped>\n",
       "    .dataframe tbody tr th:only-of-type {\n",
       "        vertical-align: middle;\n",
       "    }\n",
       "\n",
       "    .dataframe tbody tr th {\n",
       "        vertical-align: top;\n",
       "    }\n",
       "\n",
       "    .dataframe thead th {\n",
       "        text-align: right;\n",
       "    }\n",
       "</style>\n",
       "<table border=\"1\" class=\"dataframe\">\n",
       "  <thead>\n",
       "    <tr style=\"text-align: right;\">\n",
       "      <th>age</th>\n",
       "      <th>0</th>\n",
       "      <th>21</th>\n",
       "      <th>22</th>\n",
       "      <th>23</th>\n",
       "      <th>24</th>\n",
       "      <th>25</th>\n",
       "      <th>26</th>\n",
       "      <th>27</th>\n",
       "      <th>28</th>\n",
       "      <th>29</th>\n",
       "      <th>...</th>\n",
       "      <th>96</th>\n",
       "      <th>97</th>\n",
       "      <th>98</th>\n",
       "      <th>99</th>\n",
       "      <th>101</th>\n",
       "      <th>102</th>\n",
       "      <th>103</th>\n",
       "      <th>105</th>\n",
       "      <th>107</th>\n",
       "      <th>109</th>\n",
       "    </tr>\n",
       "    <tr>\n",
       "      <th>SeriousDlqin2yrs</th>\n",
       "      <th></th>\n",
       "      <th></th>\n",
       "      <th></th>\n",
       "      <th></th>\n",
       "      <th></th>\n",
       "      <th></th>\n",
       "      <th></th>\n",
       "      <th></th>\n",
       "      <th></th>\n",
       "      <th></th>\n",
       "      <th></th>\n",
       "      <th></th>\n",
       "      <th></th>\n",
       "      <th></th>\n",
       "      <th></th>\n",
       "      <th></th>\n",
       "      <th></th>\n",
       "      <th></th>\n",
       "      <th></th>\n",
       "      <th></th>\n",
       "      <th></th>\n",
       "    </tr>\n",
       "  </thead>\n",
       "  <tbody>\n",
       "    <tr>\n",
       "      <th>0</th>\n",
       "      <td>1</td>\n",
       "      <td>170</td>\n",
       "      <td>398</td>\n",
       "      <td>571</td>\n",
       "      <td>718</td>\n",
       "      <td>832</td>\n",
       "      <td>1046</td>\n",
       "      <td>1172</td>\n",
       "      <td>1355</td>\n",
       "      <td>1523</td>\n",
       "      <td>...</td>\n",
       "      <td>18</td>\n",
       "      <td>17</td>\n",
       "      <td>6</td>\n",
       "      <td>7</td>\n",
       "      <td>2</td>\n",
       "      <td>3</td>\n",
       "      <td>3</td>\n",
       "      <td>1</td>\n",
       "      <td>1</td>\n",
       "      <td>2</td>\n",
       "    </tr>\n",
       "    <tr>\n",
       "      <th>1</th>\n",
       "      <td>0</td>\n",
       "      <td>13</td>\n",
       "      <td>36</td>\n",
       "      <td>70</td>\n",
       "      <td>98</td>\n",
       "      <td>121</td>\n",
       "      <td>147</td>\n",
       "      <td>166</td>\n",
       "      <td>205</td>\n",
       "      <td>179</td>\n",
       "      <td>...</td>\n",
       "      <td>0</td>\n",
       "      <td>0</td>\n",
       "      <td>0</td>\n",
       "      <td>2</td>\n",
       "      <td>1</td>\n",
       "      <td>0</td>\n",
       "      <td>0</td>\n",
       "      <td>0</td>\n",
       "      <td>0</td>\n",
       "      <td>0</td>\n",
       "    </tr>\n",
       "  </tbody>\n",
       "</table>\n",
       "<p>2 rows × 86 columns</p>\n",
       "</div>"
      ],
      "text/plain": [
       "age               0    21   22   23   24   25    26    27    28    29   ...  \\\n",
       "SeriousDlqin2yrs                                                        ...   \n",
       "0                   1  170  398  571  718  832  1046  1172  1355  1523  ...   \n",
       "1                   0   13   36   70   98  121   147   166   205   179  ...   \n",
       "\n",
       "age               96   97   98   99   101  102  103  105  107  109  \n",
       "SeriousDlqin2yrs                                                    \n",
       "0                  18   17    6    7    2    3    3    1    1    2  \n",
       "1                   0    0    0    2    1    0    0    0    0    0  \n",
       "\n",
       "[2 rows x 86 columns]"
      ]
     },
     "execution_count": 92,
     "metadata": {},
     "output_type": "execute_result"
    }
   ],
   "source": [
    "pd.crosstab(df['SeriousDlqin2yrs'], df['age'])"
   ]
  },
  {
   "cell_type": "markdown",
   "metadata": {},
   "source": [
    "## 15) Построим crosstab для полей SeriousDlqin2yrs и age + нормализация"
   ]
  },
  {
   "cell_type": "markdown",
   "metadata": {},
   "source": [
    "см. crosstab + normalize=True"
   ]
  },
  {
   "cell_type": "code",
   "execution_count": 112,
   "metadata": {},
   "outputs": [
    {
     "data": {
      "text/html": [
       "<div>\n",
       "<style scoped>\n",
       "    .dataframe tbody tr th:only-of-type {\n",
       "        vertical-align: middle;\n",
       "    }\n",
       "\n",
       "    .dataframe tbody tr th {\n",
       "        vertical-align: top;\n",
       "    }\n",
       "\n",
       "    .dataframe thead th {\n",
       "        text-align: right;\n",
       "    }\n",
       "</style>\n",
       "<table border=\"1\" class=\"dataframe\">\n",
       "  <thead>\n",
       "    <tr style=\"text-align: right;\">\n",
       "      <th>age</th>\n",
       "      <th>0</th>\n",
       "      <th>21</th>\n",
       "      <th>22</th>\n",
       "      <th>23</th>\n",
       "      <th>24</th>\n",
       "      <th>25</th>\n",
       "      <th>26</th>\n",
       "      <th>27</th>\n",
       "      <th>28</th>\n",
       "      <th>29</th>\n",
       "      <th>...</th>\n",
       "      <th>96</th>\n",
       "      <th>97</th>\n",
       "      <th>98</th>\n",
       "      <th>99</th>\n",
       "      <th>101</th>\n",
       "      <th>102</th>\n",
       "      <th>103</th>\n",
       "      <th>105</th>\n",
       "      <th>107</th>\n",
       "      <th>109</th>\n",
       "    </tr>\n",
       "    <tr>\n",
       "      <th>SeriousDlqin2yrs</th>\n",
       "      <th></th>\n",
       "      <th></th>\n",
       "      <th></th>\n",
       "      <th></th>\n",
       "      <th></th>\n",
       "      <th></th>\n",
       "      <th></th>\n",
       "      <th></th>\n",
       "      <th></th>\n",
       "      <th></th>\n",
       "      <th></th>\n",
       "      <th></th>\n",
       "      <th></th>\n",
       "      <th></th>\n",
       "      <th></th>\n",
       "      <th></th>\n",
       "      <th></th>\n",
       "      <th></th>\n",
       "      <th></th>\n",
       "      <th></th>\n",
       "      <th></th>\n",
       "    </tr>\n",
       "  </thead>\n",
       "  <tbody>\n",
       "    <tr>\n",
       "      <th>0</th>\n",
       "      <td>0.000007</td>\n",
       "      <td>0.001133</td>\n",
       "      <td>0.002653</td>\n",
       "      <td>0.003807</td>\n",
       "      <td>0.004787</td>\n",
       "      <td>0.005547</td>\n",
       "      <td>0.006973</td>\n",
       "      <td>0.007813</td>\n",
       "      <td>0.009033</td>\n",
       "      <td>0.010153</td>\n",
       "      <td>...</td>\n",
       "      <td>0.00012</td>\n",
       "      <td>0.000113</td>\n",
       "      <td>0.00004</td>\n",
       "      <td>0.000047</td>\n",
       "      <td>0.000013</td>\n",
       "      <td>0.00002</td>\n",
       "      <td>0.00002</td>\n",
       "      <td>0.000007</td>\n",
       "      <td>0.000007</td>\n",
       "      <td>0.000013</td>\n",
       "    </tr>\n",
       "    <tr>\n",
       "      <th>1</th>\n",
       "      <td>0.000000</td>\n",
       "      <td>0.000087</td>\n",
       "      <td>0.000240</td>\n",
       "      <td>0.000467</td>\n",
       "      <td>0.000653</td>\n",
       "      <td>0.000807</td>\n",
       "      <td>0.000980</td>\n",
       "      <td>0.001107</td>\n",
       "      <td>0.001367</td>\n",
       "      <td>0.001193</td>\n",
       "      <td>...</td>\n",
       "      <td>0.00000</td>\n",
       "      <td>0.000000</td>\n",
       "      <td>0.00000</td>\n",
       "      <td>0.000013</td>\n",
       "      <td>0.000007</td>\n",
       "      <td>0.00000</td>\n",
       "      <td>0.00000</td>\n",
       "      <td>0.000000</td>\n",
       "      <td>0.000000</td>\n",
       "      <td>0.000000</td>\n",
       "    </tr>\n",
       "  </tbody>\n",
       "</table>\n",
       "<p>2 rows × 86 columns</p>\n",
       "</div>"
      ],
      "text/plain": [
       "age                    0         21        22        23        24        25   \\\n",
       "SeriousDlqin2yrs                                                               \n",
       "0                 0.000007  0.001133  0.002653  0.003807  0.004787  0.005547   \n",
       "1                 0.000000  0.000087  0.000240  0.000467  0.000653  0.000807   \n",
       "\n",
       "age                    26        27        28        29   ...      96   \\\n",
       "SeriousDlqin2yrs                                          ...            \n",
       "0                 0.006973  0.007813  0.009033  0.010153  ...  0.00012   \n",
       "1                 0.000980  0.001107  0.001367  0.001193  ...  0.00000   \n",
       "\n",
       "age                    97       98        99        101      102      103  \\\n",
       "SeriousDlqin2yrs                                                            \n",
       "0                 0.000113  0.00004  0.000047  0.000013  0.00002  0.00002   \n",
       "1                 0.000000  0.00000  0.000013  0.000007  0.00000  0.00000   \n",
       "\n",
       "age                    105       107       109  \n",
       "SeriousDlqin2yrs                                \n",
       "0                 0.000007  0.000007  0.000013  \n",
       "1                 0.000000  0.000000  0.000000  \n",
       "\n",
       "[2 rows x 86 columns]"
      ]
     },
     "execution_count": 112,
     "metadata": {},
     "output_type": "execute_result"
    }
   ],
   "source": [
    "pd.crosstab(df['SeriousDlqin2yrs'], df['age'], normalize=True)"
   ]
  },
  {
   "cell_type": "code",
   "execution_count": null,
   "metadata": {},
   "outputs": [],
   "source": []
  }
 ],
 "metadata": {
  "kernelspec": {
   "display_name": "Python 3",
   "language": "python",
   "name": "python3"
  },
  "language_info": {
   "codemirror_mode": {
    "name": "ipython",
    "version": 3
   },
   "file_extension": ".py",
   "mimetype": "text/x-python",
   "name": "python",
   "nbconvert_exporter": "python",
   "pygments_lexer": "ipython3",
   "version": "3.8.5"
  },
  "toc": {
   "base_numbering": 1,
   "nav_menu": {
    "height": "355px",
    "width": "252px"
   },
   "number_sections": false,
   "sideBar": true,
   "skip_h1_title": false,
   "title_cell": "Table of Contents",
   "title_sidebar": "Contents",
   "toc_cell": true,
   "toc_position": {},
   "toc_section_display": "block",
   "toc_window_display": false
  }
 },
 "nbformat": 4,
 "nbformat_minor": 4
}
